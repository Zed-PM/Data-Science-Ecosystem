{
 "cells": [
  {
   "cell_type": "markdown",
   "id": "fb7d0443",
   "metadata": {},
   "source": [
    "# Data Science and Ecosystem"
   ]
  },
  {
   "cell_type": "markdown",
   "id": "ec215b1d",
   "metadata": {},
   "source": [
    "In this notebook, Data Science Tools and Ecosystem are summarized. "
   ]
  },
  {
   "cell_type": "markdown",
   "id": "ea27197b",
   "metadata": {},
   "source": [
    "**Objectives:**\n",
    "- List popular data science languages.\n",
    "- List common data science libraries.\n",
    "- List open-source devlopment environments in a table.\n",
    "- Multiply and add numbers.\n",
    "- Convert minutes to hours. "
   ]
  },
  {
   "cell_type": "markdown",
   "id": "560aed13",
   "metadata": {},
   "source": [
    "Some of the popular languages that Data Scientists use are:\n",
    "1. Python\n",
    "2. R\n",
    "3. Julia"
   ]
  },
  {
   "cell_type": "markdown",
   "id": "870f19f7",
   "metadata": {},
   "source": [
    "Some of the commonly used libraries used by Data Scientists include:\n",
    "1. Pandas\n",
    "2. Seaborn\n",
    "3. Matplotlib"
   ]
  },
  {
   "cell_type": "markdown",
   "id": "09985879",
   "metadata": {},
   "source": [
    "| Data Science Tools |\n",
    "| ------------------ |\n",
    "| Jupyter |\n",
    "| R Studio |\n",
    "| Apache Zepplin |"
   ]
  },
  {
   "cell_type": "markdown",
   "id": "f7ffab61",
   "metadata": {},
   "source": [
    "### Below are a few examples of evaluating arithmetic expressions in Python."
   ]
  },
  {
   "cell_type": "code",
   "execution_count": 6,
   "id": "de81075f",
   "metadata": {},
   "outputs": [
    {
     "data": {
      "text/plain": [
       "17"
      ]
     },
     "execution_count": 6,
     "metadata": {},
     "output_type": "execute_result"
    }
   ],
   "source": [
    "# This is a simple arithmetic expression to multiply then add integers.\n",
    "\n",
    "(3*4)+5"
   ]
  },
  {
   "cell_type": "code",
   "execution_count": 8,
   "id": "8060ad8f",
   "metadata": {},
   "outputs": [
    {
     "data": {
      "text/plain": [
       "3"
      ]
     },
     "execution_count": 8,
     "metadata": {},
     "output_type": "execute_result"
    }
   ],
   "source": [
    "# This will convert 200 minutes to hours by dividing by 60. \n",
    "200//60"
   ]
  },
  {
   "cell_type": "markdown",
   "id": "3af9b83a",
   "metadata": {},
   "source": [
    "## Author\n",
    "Reyi Negron"
   ]
  },
  {
   "cell_type": "code",
   "execution_count": null,
   "id": "67ba416a",
   "metadata": {},
   "outputs": [],
   "source": []
  }
 ],
 "metadata": {
  "kernelspec": {
   "display_name": "Python 3 (ipykernel)",
   "language": "python",
   "name": "python3"
  },
  "language_info": {
   "codemirror_mode": {
    "name": "ipython",
    "version": 3
   },
   "file_extension": ".py",
   "mimetype": "text/x-python",
   "name": "python",
   "nbconvert_exporter": "python",
   "pygments_lexer": "ipython3",
   "version": "3.11.5"
  }
 },
 "nbformat": 4,
 "nbformat_minor": 5
}
